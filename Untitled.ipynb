{
 "cells": [
  {
   "cell_type": "markdown",
   "metadata": {},
   "source": [
    "#GAN\n",
    "\n",
    "- Used to describe the world\n",
    "- You can feed it conditionals to describe different stuff\n",
    "\n",
    "##BigGAN\n",
    "- Generate a lot of realistic images\n",
    "\n",
    "##Architecture \n",
    "- Critic (high dimension to low dimension)\n",
    "- Artist (low dimension to high dimension)\n",
    "\n",
    "Real Sample -> Real -> \n",
    "                                      -> Critic -> real or fake?             \n",
    "Noise -> Artist -> fake samples ->\n",
    "\n",
    "real "
   ]
  },
  {
   "cell_type": "code",
   "execution_count": null,
   "metadata": {},
   "outputs": [],
   "source": []
  }
 ],
 "metadata": {
  "kernelspec": {
   "display_name": "Python 3",
   "language": "python",
   "name": "python3"
  },
  "language_info": {
   "codemirror_mode": {
    "name": "ipython",
    "version": 3
   },
   "file_extension": ".py",
   "mimetype": "text/x-python",
   "name": "python",
   "nbconvert_exporter": "python",
   "pygments_lexer": "ipython3",
   "version": "3.7.0"
  }
 },
 "nbformat": 4,
 "nbformat_minor": 2
}
